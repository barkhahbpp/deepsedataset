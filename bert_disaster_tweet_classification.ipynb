{
  "cells": [
    {
      "cell_type": "markdown",
      "metadata": {
        "id": "view-in-github",
        "colab_type": "text"
      },
      "source": [
        "<a href=\"https://colab.research.google.com/github/barkhahbpp/deepsedataset/blob/main/bert_disaster_tweet_classification.ipynb\" target=\"_parent\"><img src=\"https://colab.research.google.com/assets/colab-badge.svg\" alt=\"Open In Colab\"/></a>"
      ]
    },
    {
      "cell_type": "markdown",
      "metadata": {
        "id": "NX9YK996e0Rw"
      },
      "source": [
        "# 1. Installing Dependencies #"
      ]
    },
    {
      "cell_type": "markdown",
      "metadata": {
        "id": "d3kNBjb_LOsd"
      },
      "source": [
        "Install paket dependensi / library yang digunakan untuk NLP Tweet Disaster"
      ]
    },
    {
      "cell_type": "code",
      "execution_count": 1,
      "metadata": {
        "colab": {
          "base_uri": "https://localhost:8080/"
        },
        "id": "MJmyWfKjepgF",
        "outputId": "d03f024c-9b28-4406-f01e-f642848ca40f"
      },
      "outputs": [
        {
          "output_type": "stream",
          "name": "stdout",
          "text": [
            "Collecting tensorflow_text\n",
            "  Downloading tensorflow_text-2.14.0-cp310-cp310-manylinux_2_17_x86_64.manylinux2014_x86_64.whl (6.5 MB)\n",
            "\u001b[2K     \u001b[90m━━━━━━━━━━━━━━━━━━━━━━━━━━━━━━━━━━━━━━━━\u001b[0m \u001b[32m6.5/6.5 MB\u001b[0m \u001b[31m11.6 MB/s\u001b[0m eta \u001b[36m0:00:00\u001b[0m\n",
            "\u001b[?25hRequirement already satisfied: tensorflow-hub>=0.13.0 in /usr/local/lib/python3.10/dist-packages (from tensorflow_text) (0.15.0)\n",
            "Requirement already satisfied: tensorflow<2.15,>=2.14.0 in /usr/local/lib/python3.10/dist-packages (from tensorflow_text) (2.14.0)\n",
            "Requirement already satisfied: absl-py>=1.0.0 in /usr/local/lib/python3.10/dist-packages (from tensorflow<2.15,>=2.14.0->tensorflow_text) (1.4.0)\n",
            "Requirement already satisfied: astunparse>=1.6.0 in /usr/local/lib/python3.10/dist-packages (from tensorflow<2.15,>=2.14.0->tensorflow_text) (1.6.3)\n",
            "Requirement already satisfied: flatbuffers>=23.5.26 in /usr/local/lib/python3.10/dist-packages (from tensorflow<2.15,>=2.14.0->tensorflow_text) (23.5.26)\n",
            "Requirement already satisfied: gast!=0.5.0,!=0.5.1,!=0.5.2,>=0.2.1 in /usr/local/lib/python3.10/dist-packages (from tensorflow<2.15,>=2.14.0->tensorflow_text) (0.5.4)\n",
            "Requirement already satisfied: google-pasta>=0.1.1 in /usr/local/lib/python3.10/dist-packages (from tensorflow<2.15,>=2.14.0->tensorflow_text) (0.2.0)\n",
            "Requirement already satisfied: h5py>=2.9.0 in /usr/local/lib/python3.10/dist-packages (from tensorflow<2.15,>=2.14.0->tensorflow_text) (3.9.0)\n",
            "Requirement already satisfied: libclang>=13.0.0 in /usr/local/lib/python3.10/dist-packages (from tensorflow<2.15,>=2.14.0->tensorflow_text) (16.0.6)\n",
            "Requirement already satisfied: ml-dtypes==0.2.0 in /usr/local/lib/python3.10/dist-packages (from tensorflow<2.15,>=2.14.0->tensorflow_text) (0.2.0)\n",
            "Requirement already satisfied: numpy>=1.23.5 in /usr/local/lib/python3.10/dist-packages (from tensorflow<2.15,>=2.14.0->tensorflow_text) (1.23.5)\n",
            "Requirement already satisfied: opt-einsum>=2.3.2 in /usr/local/lib/python3.10/dist-packages (from tensorflow<2.15,>=2.14.0->tensorflow_text) (3.3.0)\n",
            "Requirement already satisfied: packaging in /usr/local/lib/python3.10/dist-packages (from tensorflow<2.15,>=2.14.0->tensorflow_text) (23.2)\n",
            "Requirement already satisfied: protobuf!=4.21.0,!=4.21.1,!=4.21.2,!=4.21.3,!=4.21.4,!=4.21.5,<5.0.0dev,>=3.20.3 in /usr/local/lib/python3.10/dist-packages (from tensorflow<2.15,>=2.14.0->tensorflow_text) (3.20.3)\n",
            "Requirement already satisfied: setuptools in /usr/local/lib/python3.10/dist-packages (from tensorflow<2.15,>=2.14.0->tensorflow_text) (67.7.2)\n",
            "Requirement already satisfied: six>=1.12.0 in /usr/local/lib/python3.10/dist-packages (from tensorflow<2.15,>=2.14.0->tensorflow_text) (1.16.0)\n",
            "Requirement already satisfied: termcolor>=1.1.0 in /usr/local/lib/python3.10/dist-packages (from tensorflow<2.15,>=2.14.0->tensorflow_text) (2.3.0)\n",
            "Requirement already satisfied: typing-extensions>=3.6.6 in /usr/local/lib/python3.10/dist-packages (from tensorflow<2.15,>=2.14.0->tensorflow_text) (4.5.0)\n",
            "Requirement already satisfied: wrapt<1.15,>=1.11.0 in /usr/local/lib/python3.10/dist-packages (from tensorflow<2.15,>=2.14.0->tensorflow_text) (1.14.1)\n",
            "Requirement already satisfied: tensorflow-io-gcs-filesystem>=0.23.1 in /usr/local/lib/python3.10/dist-packages (from tensorflow<2.15,>=2.14.0->tensorflow_text) (0.34.0)\n",
            "Requirement already satisfied: grpcio<2.0,>=1.24.3 in /usr/local/lib/python3.10/dist-packages (from tensorflow<2.15,>=2.14.0->tensorflow_text) (1.59.2)\n",
            "Requirement already satisfied: tensorboard<2.15,>=2.14 in /usr/local/lib/python3.10/dist-packages (from tensorflow<2.15,>=2.14.0->tensorflow_text) (2.14.1)\n",
            "Requirement already satisfied: tensorflow-estimator<2.15,>=2.14.0 in /usr/local/lib/python3.10/dist-packages (from tensorflow<2.15,>=2.14.0->tensorflow_text) (2.14.0)\n",
            "Requirement already satisfied: keras<2.15,>=2.14.0 in /usr/local/lib/python3.10/dist-packages (from tensorflow<2.15,>=2.14.0->tensorflow_text) (2.14.0)\n",
            "Requirement already satisfied: wheel<1.0,>=0.23.0 in /usr/local/lib/python3.10/dist-packages (from astunparse>=1.6.0->tensorflow<2.15,>=2.14.0->tensorflow_text) (0.41.3)\n",
            "Requirement already satisfied: google-auth<3,>=1.6.3 in /usr/local/lib/python3.10/dist-packages (from tensorboard<2.15,>=2.14->tensorflow<2.15,>=2.14.0->tensorflow_text) (2.17.3)\n",
            "Requirement already satisfied: google-auth-oauthlib<1.1,>=0.5 in /usr/local/lib/python3.10/dist-packages (from tensorboard<2.15,>=2.14->tensorflow<2.15,>=2.14.0->tensorflow_text) (1.0.0)\n",
            "Requirement already satisfied: markdown>=2.6.8 in /usr/local/lib/python3.10/dist-packages (from tensorboard<2.15,>=2.14->tensorflow<2.15,>=2.14.0->tensorflow_text) (3.5.1)\n",
            "Requirement already satisfied: requests<3,>=2.21.0 in /usr/local/lib/python3.10/dist-packages (from tensorboard<2.15,>=2.14->tensorflow<2.15,>=2.14.0->tensorflow_text) (2.31.0)\n",
            "Requirement already satisfied: tensorboard-data-server<0.8.0,>=0.7.0 in /usr/local/lib/python3.10/dist-packages (from tensorboard<2.15,>=2.14->tensorflow<2.15,>=2.14.0->tensorflow_text) (0.7.2)\n",
            "Requirement already satisfied: werkzeug>=1.0.1 in /usr/local/lib/python3.10/dist-packages (from tensorboard<2.15,>=2.14->tensorflow<2.15,>=2.14.0->tensorflow_text) (3.0.1)\n",
            "Requirement already satisfied: cachetools<6.0,>=2.0.0 in /usr/local/lib/python3.10/dist-packages (from google-auth<3,>=1.6.3->tensorboard<2.15,>=2.14->tensorflow<2.15,>=2.14.0->tensorflow_text) (5.3.2)\n",
            "Requirement already satisfied: pyasn1-modules>=0.2.1 in /usr/local/lib/python3.10/dist-packages (from google-auth<3,>=1.6.3->tensorboard<2.15,>=2.14->tensorflow<2.15,>=2.14.0->tensorflow_text) (0.3.0)\n",
            "Requirement already satisfied: rsa<5,>=3.1.4 in /usr/local/lib/python3.10/dist-packages (from google-auth<3,>=1.6.3->tensorboard<2.15,>=2.14->tensorflow<2.15,>=2.14.0->tensorflow_text) (4.9)\n",
            "Requirement already satisfied: requests-oauthlib>=0.7.0 in /usr/local/lib/python3.10/dist-packages (from google-auth-oauthlib<1.1,>=0.5->tensorboard<2.15,>=2.14->tensorflow<2.15,>=2.14.0->tensorflow_text) (1.3.1)\n",
            "Requirement already satisfied: charset-normalizer<4,>=2 in /usr/local/lib/python3.10/dist-packages (from requests<3,>=2.21.0->tensorboard<2.15,>=2.14->tensorflow<2.15,>=2.14.0->tensorflow_text) (3.3.2)\n",
            "Requirement already satisfied: idna<4,>=2.5 in /usr/local/lib/python3.10/dist-packages (from requests<3,>=2.21.0->tensorboard<2.15,>=2.14->tensorflow<2.15,>=2.14.0->tensorflow_text) (3.4)\n",
            "Requirement already satisfied: urllib3<3,>=1.21.1 in /usr/local/lib/python3.10/dist-packages (from requests<3,>=2.21.0->tensorboard<2.15,>=2.14->tensorflow<2.15,>=2.14.0->tensorflow_text) (2.0.7)\n",
            "Requirement already satisfied: certifi>=2017.4.17 in /usr/local/lib/python3.10/dist-packages (from requests<3,>=2.21.0->tensorboard<2.15,>=2.14->tensorflow<2.15,>=2.14.0->tensorflow_text) (2023.7.22)\n",
            "Requirement already satisfied: MarkupSafe>=2.1.1 in /usr/local/lib/python3.10/dist-packages (from werkzeug>=1.0.1->tensorboard<2.15,>=2.14->tensorflow<2.15,>=2.14.0->tensorflow_text) (2.1.3)\n",
            "Requirement already satisfied: pyasn1<0.6.0,>=0.4.6 in /usr/local/lib/python3.10/dist-packages (from pyasn1-modules>=0.2.1->google-auth<3,>=1.6.3->tensorboard<2.15,>=2.14->tensorflow<2.15,>=2.14.0->tensorflow_text) (0.5.0)\n",
            "Requirement already satisfied: oauthlib>=3.0.0 in /usr/local/lib/python3.10/dist-packages (from requests-oauthlib>=0.7.0->google-auth-oauthlib<1.1,>=0.5->tensorboard<2.15,>=2.14->tensorflow<2.15,>=2.14.0->tensorflow_text) (3.2.2)\n",
            "Installing collected packages: tensorflow_text\n",
            "Successfully installed tensorflow_text-2.14.0\n"
          ]
        }
      ],
      "source": [
        "!pip install tensorflow_text"
      ]
    },
    {
      "cell_type": "markdown",
      "metadata": {
        "id": "4ppLIUMGALD2"
      },
      "source": [
        "# 2. Dataset #"
      ]
    },
    {
      "cell_type": "markdown",
      "metadata": {
        "id": "J1B9c2ZNLgdk"
      },
      "source": [
        "Link Dataset :\n",
        "\n",
        "https://github.com/barkhahbpp/tweetdisasterbert.git\n",
        "\n",
        "Sumber Dataset :\n",
        "\n",
        "https://www.kaggle.com/datasets/vstepanenko/disaster-tweets\n",
        "\n",
        "https://www.kaggle.com/datasets/vbmokin/nlp-with-disaster-tweets-cleaning-data\n",
        "\n",
        "**Data Descripstion**\n",
        "\n",
        "|Field name|Description|\n",
        "|--- |--- |\n",
        "|id\t|A unique identifier for each tweet |\n",
        "|keyword\t|A particular keyword from the tweet |\n",
        "|location\t|The location the tweet was sent from (may be blank) |\n",
        "|text| The text of the tweet|\n",
        "|target| Denotes whether a tweet is about a real disaster (1) or not (0)|"
      ]
    },
    {
      "cell_type": "markdown",
      "metadata": {
        "id": "5VO9BL_9NXXd"
      },
      "source": [
        "## 2.1. Data Loading ##"
      ]
    },
    {
      "cell_type": "code",
      "execution_count": 2,
      "metadata": {
        "id": "BnnKc8fHLf8n"
      },
      "outputs": [],
      "source": [
        "import numpy as np\n",
        "import pandas as pd"
      ]
    },
    {
      "cell_type": "code",
      "execution_count": 3,
      "metadata": {
        "colab": {
          "base_uri": "https://localhost:8080/"
        },
        "id": "kg8PwoE8ABhB",
        "outputId": "2298df5f-b671-411e-bc1d-4208af123c13"
      },
      "outputs": [
        {
          "output_type": "stream",
          "name": "stdout",
          "text": [
            "<class 'pandas.core.frame.DataFrame'>\n",
            "RangeIndex: 11370 entries, 0 to 11369\n",
            "Data columns (total 5 columns):\n",
            " #   Column    Non-Null Count  Dtype \n",
            "---  ------    --------------  ----- \n",
            " 0   id        11370 non-null  int64 \n",
            " 1   keyword   11370 non-null  object\n",
            " 2   location  7952 non-null   object\n",
            " 3   text      11370 non-null  object\n",
            " 4   target    11370 non-null  int64 \n",
            "dtypes: int64(2), object(3)\n",
            "memory usage: 444.3+ KB\n"
          ]
        }
      ],
      "source": [
        "dataseturl = \"https://raw.githubusercontent.com/barkhahbpp/tweetdisasterbert/main/dataset/tweets.csv\"\n",
        "twdisaster_df = pd.read_csv(dataseturl)\n",
        "twdisaster_df.info()"
      ]
    },
    {
      "cell_type": "markdown",
      "metadata": {
        "id": "JMhkjkKNOzS9"
      },
      "source": [
        "## 2.2. Explanatory Data Analysis ##"
      ]
    },
    {
      "cell_type": "code",
      "execution_count": 4,
      "metadata": {
        "id": "QSSzq1sBWAur"
      },
      "outputs": [],
      "source": [
        "import matplotlib.pyplot as plt\n",
        "import seaborn as sns"
      ]
    },
    {
      "cell_type": "code",
      "execution_count": 5,
      "metadata": {
        "colab": {
          "base_uri": "https://localhost:8080/",
          "height": 206
        },
        "id": "o4fy4QYnO5bE",
        "outputId": "cab511ea-09e3-448a-ff26-51588f592e94"
      },
      "outputs": [
        {
          "output_type": "execute_result",
          "data": {
            "text/plain": [
              "   id keyword        location  \\\n",
              "0   0  ablaze             NaN   \n",
              "1   1  ablaze             NaN   \n",
              "2   2  ablaze   New York City   \n",
              "3   3  ablaze  Morgantown, WV   \n",
              "4   4  ablaze             NaN   \n",
              "\n",
              "                                                text  target  \n",
              "0  Communal violence in Bhainsa, Telangana. \"Ston...       1  \n",
              "1  Telangana: Section 144 has been imposed in Bha...       1  \n",
              "2  Arsonist sets cars ablaze at dealership https:...       1  \n",
              "3  Arsonist sets cars ablaze at dealership https:...       1  \n",
              "4  \"Lord Jesus, your love brings freedom and pard...       0  "
            ],
            "text/html": [
              "\n",
              "  <div id=\"df-f2fc7a18-a74f-48a6-a425-40406b87a8a7\" class=\"colab-df-container\">\n",
              "    <div>\n",
              "<style scoped>\n",
              "    .dataframe tbody tr th:only-of-type {\n",
              "        vertical-align: middle;\n",
              "    }\n",
              "\n",
              "    .dataframe tbody tr th {\n",
              "        vertical-align: top;\n",
              "    }\n",
              "\n",
              "    .dataframe thead th {\n",
              "        text-align: right;\n",
              "    }\n",
              "</style>\n",
              "<table border=\"1\" class=\"dataframe\">\n",
              "  <thead>\n",
              "    <tr style=\"text-align: right;\">\n",
              "      <th></th>\n",
              "      <th>id</th>\n",
              "      <th>keyword</th>\n",
              "      <th>location</th>\n",
              "      <th>text</th>\n",
              "      <th>target</th>\n",
              "    </tr>\n",
              "  </thead>\n",
              "  <tbody>\n",
              "    <tr>\n",
              "      <th>0</th>\n",
              "      <td>0</td>\n",
              "      <td>ablaze</td>\n",
              "      <td>NaN</td>\n",
              "      <td>Communal violence in Bhainsa, Telangana. \"Ston...</td>\n",
              "      <td>1</td>\n",
              "    </tr>\n",
              "    <tr>\n",
              "      <th>1</th>\n",
              "      <td>1</td>\n",
              "      <td>ablaze</td>\n",
              "      <td>NaN</td>\n",
              "      <td>Telangana: Section 144 has been imposed in Bha...</td>\n",
              "      <td>1</td>\n",
              "    </tr>\n",
              "    <tr>\n",
              "      <th>2</th>\n",
              "      <td>2</td>\n",
              "      <td>ablaze</td>\n",
              "      <td>New York City</td>\n",
              "      <td>Arsonist sets cars ablaze at dealership https:...</td>\n",
              "      <td>1</td>\n",
              "    </tr>\n",
              "    <tr>\n",
              "      <th>3</th>\n",
              "      <td>3</td>\n",
              "      <td>ablaze</td>\n",
              "      <td>Morgantown, WV</td>\n",
              "      <td>Arsonist sets cars ablaze at dealership https:...</td>\n",
              "      <td>1</td>\n",
              "    </tr>\n",
              "    <tr>\n",
              "      <th>4</th>\n",
              "      <td>4</td>\n",
              "      <td>ablaze</td>\n",
              "      <td>NaN</td>\n",
              "      <td>\"Lord Jesus, your love brings freedom and pard...</td>\n",
              "      <td>0</td>\n",
              "    </tr>\n",
              "  </tbody>\n",
              "</table>\n",
              "</div>\n",
              "    <div class=\"colab-df-buttons\">\n",
              "\n",
              "  <div class=\"colab-df-container\">\n",
              "    <button class=\"colab-df-convert\" onclick=\"convertToInteractive('df-f2fc7a18-a74f-48a6-a425-40406b87a8a7')\"\n",
              "            title=\"Convert this dataframe to an interactive table.\"\n",
              "            style=\"display:none;\">\n",
              "\n",
              "  <svg xmlns=\"http://www.w3.org/2000/svg\" height=\"24px\" viewBox=\"0 -960 960 960\">\n",
              "    <path d=\"M120-120v-720h720v720H120Zm60-500h600v-160H180v160Zm220 220h160v-160H400v160Zm0 220h160v-160H400v160ZM180-400h160v-160H180v160Zm440 0h160v-160H620v160ZM180-180h160v-160H180v160Zm440 0h160v-160H620v160Z\"/>\n",
              "  </svg>\n",
              "    </button>\n",
              "\n",
              "  <style>\n",
              "    .colab-df-container {\n",
              "      display:flex;\n",
              "      gap: 12px;\n",
              "    }\n",
              "\n",
              "    .colab-df-convert {\n",
              "      background-color: #E8F0FE;\n",
              "      border: none;\n",
              "      border-radius: 50%;\n",
              "      cursor: pointer;\n",
              "      display: none;\n",
              "      fill: #1967D2;\n",
              "      height: 32px;\n",
              "      padding: 0 0 0 0;\n",
              "      width: 32px;\n",
              "    }\n",
              "\n",
              "    .colab-df-convert:hover {\n",
              "      background-color: #E2EBFA;\n",
              "      box-shadow: 0px 1px 2px rgba(60, 64, 67, 0.3), 0px 1px 3px 1px rgba(60, 64, 67, 0.15);\n",
              "      fill: #174EA6;\n",
              "    }\n",
              "\n",
              "    .colab-df-buttons div {\n",
              "      margin-bottom: 4px;\n",
              "    }\n",
              "\n",
              "    [theme=dark] .colab-df-convert {\n",
              "      background-color: #3B4455;\n",
              "      fill: #D2E3FC;\n",
              "    }\n",
              "\n",
              "    [theme=dark] .colab-df-convert:hover {\n",
              "      background-color: #434B5C;\n",
              "      box-shadow: 0px 1px 3px 1px rgba(0, 0, 0, 0.15);\n",
              "      filter: drop-shadow(0px 1px 2px rgba(0, 0, 0, 0.3));\n",
              "      fill: #FFFFFF;\n",
              "    }\n",
              "  </style>\n",
              "\n",
              "    <script>\n",
              "      const buttonEl =\n",
              "        document.querySelector('#df-f2fc7a18-a74f-48a6-a425-40406b87a8a7 button.colab-df-convert');\n",
              "      buttonEl.style.display =\n",
              "        google.colab.kernel.accessAllowed ? 'block' : 'none';\n",
              "\n",
              "      async function convertToInteractive(key) {\n",
              "        const element = document.querySelector('#df-f2fc7a18-a74f-48a6-a425-40406b87a8a7');\n",
              "        const dataTable =\n",
              "          await google.colab.kernel.invokeFunction('convertToInteractive',\n",
              "                                                    [key], {});\n",
              "        if (!dataTable) return;\n",
              "\n",
              "        const docLinkHtml = 'Like what you see? Visit the ' +\n",
              "          '<a target=\"_blank\" href=https://colab.research.google.com/notebooks/data_table.ipynb>data table notebook</a>'\n",
              "          + ' to learn more about interactive tables.';\n",
              "        element.innerHTML = '';\n",
              "        dataTable['output_type'] = 'display_data';\n",
              "        await google.colab.output.renderOutput(dataTable, element);\n",
              "        const docLink = document.createElement('div');\n",
              "        docLink.innerHTML = docLinkHtml;\n",
              "        element.appendChild(docLink);\n",
              "      }\n",
              "    </script>\n",
              "  </div>\n",
              "\n",
              "\n",
              "<div id=\"df-e45fc240-f91b-49a7-8ebd-56651b9f6ae7\">\n",
              "  <button class=\"colab-df-quickchart\" onclick=\"quickchart('df-e45fc240-f91b-49a7-8ebd-56651b9f6ae7')\"\n",
              "            title=\"Suggest charts\"\n",
              "            style=\"display:none;\">\n",
              "\n",
              "<svg xmlns=\"http://www.w3.org/2000/svg\" height=\"24px\"viewBox=\"0 0 24 24\"\n",
              "     width=\"24px\">\n",
              "    <g>\n",
              "        <path d=\"M19 3H5c-1.1 0-2 .9-2 2v14c0 1.1.9 2 2 2h14c1.1 0 2-.9 2-2V5c0-1.1-.9-2-2-2zM9 17H7v-7h2v7zm4 0h-2V7h2v10zm4 0h-2v-4h2v4z\"/>\n",
              "    </g>\n",
              "</svg>\n",
              "  </button>\n",
              "\n",
              "<style>\n",
              "  .colab-df-quickchart {\n",
              "      --bg-color: #E8F0FE;\n",
              "      --fill-color: #1967D2;\n",
              "      --hover-bg-color: #E2EBFA;\n",
              "      --hover-fill-color: #174EA6;\n",
              "      --disabled-fill-color: #AAA;\n",
              "      --disabled-bg-color: #DDD;\n",
              "  }\n",
              "\n",
              "  [theme=dark] .colab-df-quickchart {\n",
              "      --bg-color: #3B4455;\n",
              "      --fill-color: #D2E3FC;\n",
              "      --hover-bg-color: #434B5C;\n",
              "      --hover-fill-color: #FFFFFF;\n",
              "      --disabled-bg-color: #3B4455;\n",
              "      --disabled-fill-color: #666;\n",
              "  }\n",
              "\n",
              "  .colab-df-quickchart {\n",
              "    background-color: var(--bg-color);\n",
              "    border: none;\n",
              "    border-radius: 50%;\n",
              "    cursor: pointer;\n",
              "    display: none;\n",
              "    fill: var(--fill-color);\n",
              "    height: 32px;\n",
              "    padding: 0;\n",
              "    width: 32px;\n",
              "  }\n",
              "\n",
              "  .colab-df-quickchart:hover {\n",
              "    background-color: var(--hover-bg-color);\n",
              "    box-shadow: 0 1px 2px rgba(60, 64, 67, 0.3), 0 1px 3px 1px rgba(60, 64, 67, 0.15);\n",
              "    fill: var(--button-hover-fill-color);\n",
              "  }\n",
              "\n",
              "  .colab-df-quickchart-complete:disabled,\n",
              "  .colab-df-quickchart-complete:disabled:hover {\n",
              "    background-color: var(--disabled-bg-color);\n",
              "    fill: var(--disabled-fill-color);\n",
              "    box-shadow: none;\n",
              "  }\n",
              "\n",
              "  .colab-df-spinner {\n",
              "    border: 2px solid var(--fill-color);\n",
              "    border-color: transparent;\n",
              "    border-bottom-color: var(--fill-color);\n",
              "    animation:\n",
              "      spin 1s steps(1) infinite;\n",
              "  }\n",
              "\n",
              "  @keyframes spin {\n",
              "    0% {\n",
              "      border-color: transparent;\n",
              "      border-bottom-color: var(--fill-color);\n",
              "      border-left-color: var(--fill-color);\n",
              "    }\n",
              "    20% {\n",
              "      border-color: transparent;\n",
              "      border-left-color: var(--fill-color);\n",
              "      border-top-color: var(--fill-color);\n",
              "    }\n",
              "    30% {\n",
              "      border-color: transparent;\n",
              "      border-left-color: var(--fill-color);\n",
              "      border-top-color: var(--fill-color);\n",
              "      border-right-color: var(--fill-color);\n",
              "    }\n",
              "    40% {\n",
              "      border-color: transparent;\n",
              "      border-right-color: var(--fill-color);\n",
              "      border-top-color: var(--fill-color);\n",
              "    }\n",
              "    60% {\n",
              "      border-color: transparent;\n",
              "      border-right-color: var(--fill-color);\n",
              "    }\n",
              "    80% {\n",
              "      border-color: transparent;\n",
              "      border-right-color: var(--fill-color);\n",
              "      border-bottom-color: var(--fill-color);\n",
              "    }\n",
              "    90% {\n",
              "      border-color: transparent;\n",
              "      border-bottom-color: var(--fill-color);\n",
              "    }\n",
              "  }\n",
              "</style>\n",
              "\n",
              "  <script>\n",
              "    async function quickchart(key) {\n",
              "      const quickchartButtonEl =\n",
              "        document.querySelector('#' + key + ' button');\n",
              "      quickchartButtonEl.disabled = true;  // To prevent multiple clicks.\n",
              "      quickchartButtonEl.classList.add('colab-df-spinner');\n",
              "      try {\n",
              "        const charts = await google.colab.kernel.invokeFunction(\n",
              "            'suggestCharts', [key], {});\n",
              "      } catch (error) {\n",
              "        console.error('Error during call to suggestCharts:', error);\n",
              "      }\n",
              "      quickchartButtonEl.classList.remove('colab-df-spinner');\n",
              "      quickchartButtonEl.classList.add('colab-df-quickchart-complete');\n",
              "    }\n",
              "    (() => {\n",
              "      let quickchartButtonEl =\n",
              "        document.querySelector('#df-e45fc240-f91b-49a7-8ebd-56651b9f6ae7 button');\n",
              "      quickchartButtonEl.style.display =\n",
              "        google.colab.kernel.accessAllowed ? 'block' : 'none';\n",
              "    })();\n",
              "  </script>\n",
              "</div>\n",
              "    </div>\n",
              "  </div>\n"
            ]
          },
          "metadata": {},
          "execution_count": 5
        }
      ],
      "source": [
        "twdisaster_df.head(5)"
      ]
    },
    {
      "cell_type": "code",
      "execution_count": 6,
      "metadata": {
        "colab": {
          "base_uri": "https://localhost:8080/",
          "height": 175
        },
        "id": "gMIpu2_TPG5-",
        "outputId": "62229fd7-fe1b-482a-97e1-d089e2e69117"
      },
      "outputs": [
        {
          "output_type": "execute_result",
          "data": {
            "text/plain": [
              "            id                                                           \\\n",
              "         count         mean          std  min      25%     50%      75%   \n",
              "target                                                                    \n",
              "0       9256.0  5631.622191  3247.050923  4.0  2853.75  5635.5  8404.50   \n",
              "1       2114.0  5916.021760  3423.980548  0.0  2714.50  5930.0  9131.75   \n",
              "\n",
              "                 \n",
              "            max  \n",
              "target           \n",
              "0       11368.0  \n",
              "1       11369.0  "
            ],
            "text/html": [
              "\n",
              "  <div id=\"df-6e4c8738-73f8-4d3c-ac5f-5a72d89c2a76\" class=\"colab-df-container\">\n",
              "    <div>\n",
              "<style scoped>\n",
              "    .dataframe tbody tr th:only-of-type {\n",
              "        vertical-align: middle;\n",
              "    }\n",
              "\n",
              "    .dataframe tbody tr th {\n",
              "        vertical-align: top;\n",
              "    }\n",
              "\n",
              "    .dataframe thead tr th {\n",
              "        text-align: left;\n",
              "    }\n",
              "\n",
              "    .dataframe thead tr:last-of-type th {\n",
              "        text-align: right;\n",
              "    }\n",
              "</style>\n",
              "<table border=\"1\" class=\"dataframe\">\n",
              "  <thead>\n",
              "    <tr>\n",
              "      <th></th>\n",
              "      <th colspan=\"8\" halign=\"left\">id</th>\n",
              "    </tr>\n",
              "    <tr>\n",
              "      <th></th>\n",
              "      <th>count</th>\n",
              "      <th>mean</th>\n",
              "      <th>std</th>\n",
              "      <th>min</th>\n",
              "      <th>25%</th>\n",
              "      <th>50%</th>\n",
              "      <th>75%</th>\n",
              "      <th>max</th>\n",
              "    </tr>\n",
              "    <tr>\n",
              "      <th>target</th>\n",
              "      <th></th>\n",
              "      <th></th>\n",
              "      <th></th>\n",
              "      <th></th>\n",
              "      <th></th>\n",
              "      <th></th>\n",
              "      <th></th>\n",
              "      <th></th>\n",
              "    </tr>\n",
              "  </thead>\n",
              "  <tbody>\n",
              "    <tr>\n",
              "      <th>0</th>\n",
              "      <td>9256.0</td>\n",
              "      <td>5631.622191</td>\n",
              "      <td>3247.050923</td>\n",
              "      <td>4.0</td>\n",
              "      <td>2853.75</td>\n",
              "      <td>5635.5</td>\n",
              "      <td>8404.50</td>\n",
              "      <td>11368.0</td>\n",
              "    </tr>\n",
              "    <tr>\n",
              "      <th>1</th>\n",
              "      <td>2114.0</td>\n",
              "      <td>5916.021760</td>\n",
              "      <td>3423.980548</td>\n",
              "      <td>0.0</td>\n",
              "      <td>2714.50</td>\n",
              "      <td>5930.0</td>\n",
              "      <td>9131.75</td>\n",
              "      <td>11369.0</td>\n",
              "    </tr>\n",
              "  </tbody>\n",
              "</table>\n",
              "</div>\n",
              "    <div class=\"colab-df-buttons\">\n",
              "\n",
              "  <div class=\"colab-df-container\">\n",
              "    <button class=\"colab-df-convert\" onclick=\"convertToInteractive('df-6e4c8738-73f8-4d3c-ac5f-5a72d89c2a76')\"\n",
              "            title=\"Convert this dataframe to an interactive table.\"\n",
              "            style=\"display:none;\">\n",
              "\n",
              "  <svg xmlns=\"http://www.w3.org/2000/svg\" height=\"24px\" viewBox=\"0 -960 960 960\">\n",
              "    <path d=\"M120-120v-720h720v720H120Zm60-500h600v-160H180v160Zm220 220h160v-160H400v160Zm0 220h160v-160H400v160ZM180-400h160v-160H180v160Zm440 0h160v-160H620v160ZM180-180h160v-160H180v160Zm440 0h160v-160H620v160Z\"/>\n",
              "  </svg>\n",
              "    </button>\n",
              "\n",
              "  <style>\n",
              "    .colab-df-container {\n",
              "      display:flex;\n",
              "      gap: 12px;\n",
              "    }\n",
              "\n",
              "    .colab-df-convert {\n",
              "      background-color: #E8F0FE;\n",
              "      border: none;\n",
              "      border-radius: 50%;\n",
              "      cursor: pointer;\n",
              "      display: none;\n",
              "      fill: #1967D2;\n",
              "      height: 32px;\n",
              "      padding: 0 0 0 0;\n",
              "      width: 32px;\n",
              "    }\n",
              "\n",
              "    .colab-df-convert:hover {\n",
              "      background-color: #E2EBFA;\n",
              "      box-shadow: 0px 1px 2px rgba(60, 64, 67, 0.3), 0px 1px 3px 1px rgba(60, 64, 67, 0.15);\n",
              "      fill: #174EA6;\n",
              "    }\n",
              "\n",
              "    .colab-df-buttons div {\n",
              "      margin-bottom: 4px;\n",
              "    }\n",
              "\n",
              "    [theme=dark] .colab-df-convert {\n",
              "      background-color: #3B4455;\n",
              "      fill: #D2E3FC;\n",
              "    }\n",
              "\n",
              "    [theme=dark] .colab-df-convert:hover {\n",
              "      background-color: #434B5C;\n",
              "      box-shadow: 0px 1px 3px 1px rgba(0, 0, 0, 0.15);\n",
              "      filter: drop-shadow(0px 1px 2px rgba(0, 0, 0, 0.3));\n",
              "      fill: #FFFFFF;\n",
              "    }\n",
              "  </style>\n",
              "\n",
              "    <script>\n",
              "      const buttonEl =\n",
              "        document.querySelector('#df-6e4c8738-73f8-4d3c-ac5f-5a72d89c2a76 button.colab-df-convert');\n",
              "      buttonEl.style.display =\n",
              "        google.colab.kernel.accessAllowed ? 'block' : 'none';\n",
              "\n",
              "      async function convertToInteractive(key) {\n",
              "        const element = document.querySelector('#df-6e4c8738-73f8-4d3c-ac5f-5a72d89c2a76');\n",
              "        const dataTable =\n",
              "          await google.colab.kernel.invokeFunction('convertToInteractive',\n",
              "                                                    [key], {});\n",
              "        if (!dataTable) return;\n",
              "\n",
              "        const docLinkHtml = 'Like what you see? Visit the ' +\n",
              "          '<a target=\"_blank\" href=https://colab.research.google.com/notebooks/data_table.ipynb>data table notebook</a>'\n",
              "          + ' to learn more about interactive tables.';\n",
              "        element.innerHTML = '';\n",
              "        dataTable['output_type'] = 'display_data';\n",
              "        await google.colab.output.renderOutput(dataTable, element);\n",
              "        const docLink = document.createElement('div');\n",
              "        docLink.innerHTML = docLinkHtml;\n",
              "        element.appendChild(docLink);\n",
              "      }\n",
              "    </script>\n",
              "  </div>\n",
              "\n",
              "\n",
              "<div id=\"df-c6067d18-c8ea-4893-a6ab-94e3ea3d982b\">\n",
              "  <button class=\"colab-df-quickchart\" onclick=\"quickchart('df-c6067d18-c8ea-4893-a6ab-94e3ea3d982b')\"\n",
              "            title=\"Suggest charts\"\n",
              "            style=\"display:none;\">\n",
              "\n",
              "<svg xmlns=\"http://www.w3.org/2000/svg\" height=\"24px\"viewBox=\"0 0 24 24\"\n",
              "     width=\"24px\">\n",
              "    <g>\n",
              "        <path d=\"M19 3H5c-1.1 0-2 .9-2 2v14c0 1.1.9 2 2 2h14c1.1 0 2-.9 2-2V5c0-1.1-.9-2-2-2zM9 17H7v-7h2v7zm4 0h-2V7h2v10zm4 0h-2v-4h2v4z\"/>\n",
              "    </g>\n",
              "</svg>\n",
              "  </button>\n",
              "\n",
              "<style>\n",
              "  .colab-df-quickchart {\n",
              "      --bg-color: #E8F0FE;\n",
              "      --fill-color: #1967D2;\n",
              "      --hover-bg-color: #E2EBFA;\n",
              "      --hover-fill-color: #174EA6;\n",
              "      --disabled-fill-color: #AAA;\n",
              "      --disabled-bg-color: #DDD;\n",
              "  }\n",
              "\n",
              "  [theme=dark] .colab-df-quickchart {\n",
              "      --bg-color: #3B4455;\n",
              "      --fill-color: #D2E3FC;\n",
              "      --hover-bg-color: #434B5C;\n",
              "      --hover-fill-color: #FFFFFF;\n",
              "      --disabled-bg-color: #3B4455;\n",
              "      --disabled-fill-color: #666;\n",
              "  }\n",
              "\n",
              "  .colab-df-quickchart {\n",
              "    background-color: var(--bg-color);\n",
              "    border: none;\n",
              "    border-radius: 50%;\n",
              "    cursor: pointer;\n",
              "    display: none;\n",
              "    fill: var(--fill-color);\n",
              "    height: 32px;\n",
              "    padding: 0;\n",
              "    width: 32px;\n",
              "  }\n",
              "\n",
              "  .colab-df-quickchart:hover {\n",
              "    background-color: var(--hover-bg-color);\n",
              "    box-shadow: 0 1px 2px rgba(60, 64, 67, 0.3), 0 1px 3px 1px rgba(60, 64, 67, 0.15);\n",
              "    fill: var(--button-hover-fill-color);\n",
              "  }\n",
              "\n",
              "  .colab-df-quickchart-complete:disabled,\n",
              "  .colab-df-quickchart-complete:disabled:hover {\n",
              "    background-color: var(--disabled-bg-color);\n",
              "    fill: var(--disabled-fill-color);\n",
              "    box-shadow: none;\n",
              "  }\n",
              "\n",
              "  .colab-df-spinner {\n",
              "    border: 2px solid var(--fill-color);\n",
              "    border-color: transparent;\n",
              "    border-bottom-color: var(--fill-color);\n",
              "    animation:\n",
              "      spin 1s steps(1) infinite;\n",
              "  }\n",
              "\n",
              "  @keyframes spin {\n",
              "    0% {\n",
              "      border-color: transparent;\n",
              "      border-bottom-color: var(--fill-color);\n",
              "      border-left-color: var(--fill-color);\n",
              "    }\n",
              "    20% {\n",
              "      border-color: transparent;\n",
              "      border-left-color: var(--fill-color);\n",
              "      border-top-color: var(--fill-color);\n",
              "    }\n",
              "    30% {\n",
              "      border-color: transparent;\n",
              "      border-left-color: var(--fill-color);\n",
              "      border-top-color: var(--fill-color);\n",
              "      border-right-color: var(--fill-color);\n",
              "    }\n",
              "    40% {\n",
              "      border-color: transparent;\n",
              "      border-right-color: var(--fill-color);\n",
              "      border-top-color: var(--fill-color);\n",
              "    }\n",
              "    60% {\n",
              "      border-color: transparent;\n",
              "      border-right-color: var(--fill-color);\n",
              "    }\n",
              "    80% {\n",
              "      border-color: transparent;\n",
              "      border-right-color: var(--fill-color);\n",
              "      border-bottom-color: var(--fill-color);\n",
              "    }\n",
              "    90% {\n",
              "      border-color: transparent;\n",
              "      border-bottom-color: var(--fill-color);\n",
              "    }\n",
              "  }\n",
              "</style>\n",
              "\n",
              "  <script>\n",
              "    async function quickchart(key) {\n",
              "      const quickchartButtonEl =\n",
              "        document.querySelector('#' + key + ' button');\n",
              "      quickchartButtonEl.disabled = true;  // To prevent multiple clicks.\n",
              "      quickchartButtonEl.classList.add('colab-df-spinner');\n",
              "      try {\n",
              "        const charts = await google.colab.kernel.invokeFunction(\n",
              "            'suggestCharts', [key], {});\n",
              "      } catch (error) {\n",
              "        console.error('Error during call to suggestCharts:', error);\n",
              "      }\n",
              "      quickchartButtonEl.classList.remove('colab-df-spinner');\n",
              "      quickchartButtonEl.classList.add('colab-df-quickchart-complete');\n",
              "    }\n",
              "    (() => {\n",
              "      let quickchartButtonEl =\n",
              "        document.querySelector('#df-c6067d18-c8ea-4893-a6ab-94e3ea3d982b button');\n",
              "      quickchartButtonEl.style.display =\n",
              "        google.colab.kernel.accessAllowed ? 'block' : 'none';\n",
              "    })();\n",
              "  </script>\n",
              "</div>\n",
              "    </div>\n",
              "  </div>\n"
            ]
          },
          "metadata": {},
          "execution_count": 6
        }
      ],
      "source": [
        "twdisaster_df.groupby('target').describe()"
      ]
    },
    {
      "cell_type": "code",
      "execution_count": 7,
      "metadata": {
        "id": "9hGcdZkCZWpF"
      },
      "outputs": [],
      "source": [
        "twdisaster = len(twdisaster_df.loc[twdisaster_df['target']==1])\n",
        "twnotdisaster = len(twdisaster_df.loc[twdisaster_df['target']==0])\n"
      ]
    },
    {
      "cell_type": "code",
      "execution_count": 8,
      "metadata": {
        "colab": {
          "base_uri": "https://localhost:8080/",
          "height": 306
        },
        "id": "BhiMdp5mPfwc",
        "outputId": "75bca49d-3c3c-448d-ceac-75575b6750ab"
      },
      "outputs": [
        {
          "output_type": "display_data",
          "data": {
            "text/plain": [
              "<Figure size 1700x400 with 2 Axes>"
            ],
            "image/png": "[encoded data removed]"
          },
          "metadata": {}
        }
      ],
      "source": [
        "prop_disaster = twdisaster / len(twdisaster_df) * 100\n",
        "prop_notdisaster = twnotdisaster / len(twdisaster_df) * 100\n",
        "\n",
        "fig, axes = plt.subplots(ncols=2, figsize=(17, 4), dpi=100)\n",
        "plt.tight_layout()\n",
        "\n",
        "twdisaster_df.groupby('target').count()['id'].plot(kind='pie', ax=axes[0], labels=['Not Disaster ('+'{:.2f}'.format(prop_notdisaster)+')', 'Disaster ('+'{:.2f}'.format(prop_disaster)+')'])\n",
        "sns.countplot(x=twdisaster_df['target'], hue=twdisaster_df['target'], ax=axes[1])\n",
        "\n",
        "axes[0].set_ylabel('')\n",
        "axes[1].set_ylabel('')\n",
        "axes[1].set_xticklabels(['Not Disaster ('+str(twnotdisaster)+')', 'Disaster ('+str(twdisaster)+')'])\n",
        "axes[0].tick_params(axis='x', labelsize=15)\n",
        "axes[0].tick_params(axis='y', labelsize=15)\n",
        "axes[1].tick_params(axis='x', labelsize=15)\n",
        "axes[1].tick_params(axis='y', labelsize=15)\n",
        "\n",
        "axes[0].set_title('Target Distribution in Dataset', fontsize=13)\n",
        "axes[1].set_title('Target Count in Dataset', fontsize=13)\n",
        "\n",
        "plt.show()\n"
      ]
    },
    {
      "cell_type": "markdown",
      "metadata": {
        "id": "yrc25KBsGubh"
      },
      "source": [
        "## 2.3. Addressing Problem Imbalanced Data ##"
      ]
    },
    {
      "cell_type": "markdown",
      "metadata": {
        "id": "S3EGZ5JVUVtM"
      },
      "source": [
        "According to the dataset analytics, we conlude that the data are imbalanced. Non-disaster data are larger than disaster data. We use the downsampling to balance data between disaster and non-disaster. Downsampling is a technique to handle imbalanced data that reduce the number of samples having the bias."
      ]
    },
    {
      "cell_type": "code",
      "execution_count": 9,
      "metadata": {
        "colab": {
          "base_uri": "https://localhost:8080/"
        },
        "id": "-3s4OKynT6KE",
        "outputId": "c2e14810-90f6-4491-bc3f-5cb5282af32a"
      },
      "outputs": [
        {
          "output_type": "execute_result",
          "data": {
            "text/plain": [
              "(2114, 5)"
            ]
          },
          "metadata": {},
          "execution_count": 9
        }
      ],
      "source": [
        "disaster_df = twdisaster_df[twdisaster_df['target']==1]\n",
        "disaster_df.shape"
      ]
    },
    {
      "cell_type": "code",
      "execution_count": 10,
      "metadata": {
        "colab": {
          "base_uri": "https://localhost:8080/"
        },
        "id": "j8kpMqCdGoy_",
        "outputId": "4b3a3ded-6535-4865-fca3-789998b1e60b"
      },
      "outputs": [
        {
          "output_type": "execute_result",
          "data": {
            "text/plain": [
              "(9256, 5)"
            ]
          },
          "metadata": {},
          "execution_count": 10
        }
      ],
      "source": [
        "nondisaster_df = twdisaster_df[twdisaster_df['target']==0]\n",
        "nondisaster_df.shape"
      ]
    },
    {
      "cell_type": "code",
      "execution_count": 11,
      "metadata": {
        "colab": {
          "base_uri": "https://localhost:8080/"
        },
        "id": "5jJPQ7fJGqwr",
        "outputId": "1124a5de-cb5d-4c28-de4e-78ffe026483d"
      },
      "outputs": [
        {
          "output_type": "execute_result",
          "data": {
            "text/plain": [
              "(2114, 5)"
            ]
          },
          "metadata": {},
          "execution_count": 11
        }
      ],
      "source": [
        "downsampled_nondisaster_df = nondisaster_df.sample(disaster_df.shape[0])\n",
        "downsampled_nondisaster_df.shape"
      ]
    },
    {
      "cell_type": "code",
      "execution_count": 12,
      "metadata": {
        "colab": {
          "base_uri": "https://localhost:8080/"
        },
        "id": "SBdAGM5WHiKk",
        "outputId": "39dbf383-3008-4bb9-a396-813e10d1162d"
      },
      "outputs": [
        {
          "output_type": "execute_result",
          "data": {
            "text/plain": [
              "(4228, 5)"
            ]
          },
          "metadata": {},
          "execution_count": 12
        }
      ],
      "source": [
        "balanced_df = pd.concat([disaster_df, downsampled_nondisaster_df])\n",
        "balanced_df.shape"
      ]
    },
    {
      "cell_type": "code",
      "execution_count": 13,
      "metadata": {
        "colab": {
          "base_uri": "https://localhost:8080/"
        },
        "id": "REnwHz8TI7ry",
        "outputId": "948e5a90-a1cc-4091-8b41-0de4446a9a3d"
      },
      "outputs": [
        {
          "output_type": "execute_result",
          "data": {
            "text/plain": [
              "1    2114\n",
              "0    2114\n",
              "Name: target, dtype: int64"
            ]
          },
          "metadata": {},
          "execution_count": 13
        }
      ],
      "source": [
        "balanced_df['target'].value_counts()"
      ]
    },
    {
      "cell_type": "code",
      "execution_count": 14,
      "metadata": {
        "colab": {
          "base_uri": "https://localhost:8080/",
          "height": 677
        },
        "id": "k-SOFQD9JBlY",
        "outputId": "453cb692-9e31-4612-d850-42107276af30"
      },
      "outputs": [
        {
          "output_type": "execute_result",
          "data": {
            "text/plain": [
              "          id               keyword                      location  \\\n",
              "9696    9696      suicide%20bomber                 Colorado, USA   \n",
              "11270  11270                 wreck          🍀~Personal & Fan acc   \n",
              "1530    1530                bombed            Larkhall, Scotland   \n",
              "2011    2011            casualties                        Prison   \n",
              "4858    4858  emergency%20services            South Africa - KZN   \n",
              "10908  10908                weapon           Victoria, Australia   \n",
              "1100    1100                blight        N.E. Florida & FL Keys   \n",
              "783      783             bioterror                           NaN   \n",
              "11018  11018          wild%20fires    bts day6 TS redvelvet the🥀   \n",
              "6154    6154                  harm            Swansea University   \n",
              "3662    3662              derailed  Norfolk via Essex and London   \n",
              "10278  10278               tornado                 Cleveland, OH   \n",
              "7726    7726     nuclear%20reactor        Lucknow, Uttar Pradesh   \n",
              "10832  10832            war%20zone                           NaN   \n",
              "6664    6664              hostages    Kamloops, British Columbia   \n",
              "8766    8766                rubble             Brussels, Belgium   \n",
              "3773    3773            derailment                           NaN   \n",
              "10959  10959               weapons                   Oulu, Suomi   \n",
              "9168    9168              sinkhole                        London   \n",
              "9005    9005             screaming                           NaN   \n",
              "\n",
              "                                                    text  target  \n",
              "9696   Mexican Border City on High Alert Over ‘Suicid...       1  \n",
              "11270                   Are you trying to wreck me?? 😭😭😭       1  \n",
              "1530   Definitely says \"bombed\" now you have a name o...       0  \n",
              "2011   This was a war with a lot of casualties... htt...       1  \n",
              "4858   Gauteng Helicopter Emergency Medical Services:...       1  \n",
              "10908  love to see Sorenson as a starter absolute weapon       0  \n",
              "1100   Only Leftists would demand exteme birth contro...       0  \n",
              "783    US-Mexico Border: Portal For TB, Swine Flu, Bi...       1  \n",
              "11018  OK so I know you're trying to be shady like bu...       0  \n",
              "6154   Changes to our lives and our bodies as we get ...       0  \n",
              "3662   Taking the train through Hitchin this morning?...       1  \n",
              "10278  Storm passing through Holly Pond Saturday… an ...       1  \n",
              "7726   It is wrong to think that India has never rece...       0  \n",
              "10832  When they pan to the empty champagne bottle li...       0  \n",
              "6664   Great, now can the respective economic hostage...       0  \n",
              "8766   #AJE US troops clear rubble from Iraq base day...       1  \n",
              "3773   Highway closed after major train derailment in...       1  \n",
              "10959  \"I know not with what weapons World War III wi...       1  \n",
              "9168   Terrifying moment sinkhole swallows packed bus...       1  \n",
              "9005   Hearing I.M screaming 🙀 so cute 😻 #HopeToSeeWonho       0  "
            ],
            "text/html": [
              "\n",
              "  <div id=\"df-91130096-1890-4c58-b19b-97bdd68efc3f\" class=\"colab-df-container\">\n",
              "    <div>\n",
              "<style scoped>\n",
              "    .dataframe tbody tr th:only-of-type {\n",
              "        vertical-align: middle;\n",
              "    }\n",
              "\n",
              "    .dataframe tbody tr th {\n",
              "        vertical-align: top;\n",
              "    }\n",
              "\n",
              "    .dataframe thead th {\n",
              "        text-align: right;\n",
              "    }\n",
              "</style>\n",
              "<table border=\"1\" class=\"dataframe\">\n",
              "  <thead>\n",
              "    <tr style=\"text-align: right;\">\n",
              "      <th></th>\n",
              "      <th>id</th>\n",
              "      <th>keyword</th>\n",
              "      <th>location</th>\n",
              "      <th>text</th>\n",
              "      <th>target</th>\n",
              "    </tr>\n",
              "  </thead>\n",
              "  <tbody>\n",
              "    <tr>\n",
              "      <th>9696</th>\n",
              "      <td>9696</td>\n",
              "      <td>suicide%20bomber</td>\n",
              "      <td>Colorado, USA</td>\n",
              "      <td>Mexican Border City on High Alert Over ‘Suicid...</td>\n",
              "      <td>1</td>\n",
              "    </tr>\n",
              "    <tr>\n",
              "      <th>11270</th>\n",
              "      <td>11270</td>\n",
              "      <td>wreck</td>\n",
              "      <td>🍀~Personal &amp; Fan acc</td>\n",
              "      <td>Are you trying to wreck me?? 😭😭😭</td>\n",
              "      <td>1</td>\n",
              "    </tr>\n",
              "    <tr>\n",
              "      <th>1530</th>\n",
              "      <td>1530</td>\n",
              "      <td>bombed</td>\n",
              "      <td>Larkhall, Scotland</td>\n",
              "      <td>Definitely says \"bombed\" now you have a name o...</td>\n",
              "      <td>0</td>\n",
              "    </tr>\n",
              "    <tr>\n",
              "      <th>2011</th>\n",
              "      <td>2011</td>\n",
              "      <td>casualties</td>\n",
              "      <td>Prison</td>\n",
              "      <td>This was a war with a lot of casualties... htt...</td>\n",
              "      <td>1</td>\n",
              "    </tr>\n",
              "    <tr>\n",
              "      <th>4858</th>\n",
              "      <td>4858</td>\n",
              "      <td>emergency%20services</td>\n",
              "      <td>South Africa - KZN</td>\n",
              "      <td>Gauteng Helicopter Emergency Medical Services:...</td>\n",
              "      <td>1</td>\n",
              "    </tr>\n",
              "    <tr>\n",
              "      <th>10908</th>\n",
              "      <td>10908</td>\n",
              "      <td>weapon</td>\n",
              "      <td>Victoria, Australia</td>\n",
              "      <td>love to see Sorenson as a starter absolute weapon</td>\n",
              "      <td>0</td>\n",
              "    </tr>\n",
              "    <tr>\n",
              "      <th>1100</th>\n",
              "      <td>1100</td>\n",
              "      <td>blight</td>\n",
              "      <td>N.E. Florida &amp; FL Keys</td>\n",
              "      <td>Only Leftists would demand exteme birth contro...</td>\n",
              "      <td>0</td>\n",
              "    </tr>\n",
              "    <tr>\n",
              "      <th>783</th>\n",
              "      <td>783</td>\n",
              "      <td>bioterror</td>\n",
              "      <td>NaN</td>\n",
              "      <td>US-Mexico Border: Portal For TB, Swine Flu, Bi...</td>\n",
              "      <td>1</td>\n",
              "    </tr>\n",
              "    <tr>\n",
              "      <th>11018</th>\n",
              "      <td>11018</td>\n",
              "      <td>wild%20fires</td>\n",
              "      <td>bts day6 TS redvelvet the🥀</td>\n",
              "      <td>OK so I know you're trying to be shady like bu...</td>\n",
              "      <td>0</td>\n",
              "    </tr>\n",
              "    <tr>\n",
              "      <th>6154</th>\n",
              "      <td>6154</td>\n",
              "      <td>harm</td>\n",
              "      <td>Swansea University</td>\n",
              "      <td>Changes to our lives and our bodies as we get ...</td>\n",
              "      <td>0</td>\n",
              "    </tr>\n",
              "    <tr>\n",
              "      <th>3662</th>\n",
              "      <td>3662</td>\n",
              "      <td>derailed</td>\n",
              "      <td>Norfolk via Essex and London</td>\n",
              "      <td>Taking the train through Hitchin this morning?...</td>\n",
              "      <td>1</td>\n",
              "    </tr>\n",
              "    <tr>\n",
              "      <th>10278</th>\n",
              "      <td>10278</td>\n",
              "      <td>tornado</td>\n",
              "      <td>Cleveland, OH</td>\n",
              "      <td>Storm passing through Holly Pond Saturday… an ...</td>\n",
              "      <td>1</td>\n",
              "    </tr>\n",
              "    <tr>\n",
              "      <th>7726</th>\n",
              "      <td>7726</td>\n",
              "      <td>nuclear%20reactor</td>\n",
              "      <td>Lucknow, Uttar Pradesh</td>\n",
              "      <td>It is wrong to think that India has never rece...</td>\n",
              "      <td>0</td>\n",
              "    </tr>\n",
              "    <tr>\n",
              "      <th>10832</th>\n",
              "      <td>10832</td>\n",
              "      <td>war%20zone</td>\n",
              "      <td>NaN</td>\n",
              "      <td>When they pan to the empty champagne bottle li...</td>\n",
              "      <td>0</td>\n",
              "    </tr>\n",
              "    <tr>\n",
              "      <th>6664</th>\n",
              "      <td>6664</td>\n",
              "      <td>hostages</td>\n",
              "      <td>Kamloops, British Columbia</td>\n",
              "      <td>Great, now can the respective economic hostage...</td>\n",
              "      <td>0</td>\n",
              "    </tr>\n",
              "    <tr>\n",
              "      <th>8766</th>\n",
              "      <td>8766</td>\n",
              "      <td>rubble</td>\n",
              "      <td>Brussels, Belgium</td>\n",
              "      <td>#AJE US troops clear rubble from Iraq base day...</td>\n",
              "      <td>1</td>\n",
              "    </tr>\n",
              "    <tr>\n",
              "      <th>3773</th>\n",
              "      <td>3773</td>\n",
              "      <td>derailment</td>\n",
              "      <td>NaN</td>\n",
              "      <td>Highway closed after major train derailment in...</td>\n",
              "      <td>1</td>\n",
              "    </tr>\n",
              "    <tr>\n",
              "      <th>10959</th>\n",
              "      <td>10959</td>\n",
              "      <td>weapons</td>\n",
              "      <td>Oulu, Suomi</td>\n",
              "      <td>\"I know not with what weapons World War III wi...</td>\n",
              "      <td>1</td>\n",
              "    </tr>\n",
              "    <tr>\n",
              "      <th>9168</th>\n",
              "      <td>9168</td>\n",
              "      <td>sinkhole</td>\n",
              "      <td>London</td>\n",
              "      <td>Terrifying moment sinkhole swallows packed bus...</td>\n",
              "      <td>1</td>\n",
              "    </tr>\n",
              "    <tr>\n",
              "      <th>9005</th>\n",
              "      <td>9005</td>\n",
              "      <td>screaming</td>\n",
              "      <td>NaN</td>\n",
              "      <td>Hearing I.M screaming 🙀 so cute 😻 #HopeToSeeWonho</td>\n",
              "      <td>0</td>\n",
              "    </tr>\n",
              "  </tbody>\n",
              "</table>\n",
              "</div>\n",
              "    <div class=\"colab-df-buttons\">\n",
              "\n",
              "  <div class=\"colab-df-container\">\n",
              "    <button class=\"colab-df-convert\" onclick=\"convertToInteractive('df-91130096-1890-4c58-b19b-97bdd68efc3f')\"\n",
              "            title=\"Convert this dataframe to an interactive table.\"\n",
              "            style=\"display:none;\">\n",
              "\n",
              "  <svg xmlns=\"http://www.w3.org/2000/svg\" height=\"24px\" viewBox=\"0 -960 960 960\">\n",
              "    <path d=\"M120-120v-720h720v720H120Zm60-500h600v-160H180v160Zm220 220h160v-160H400v160Zm0 220h160v-160H400v160ZM180-400h160v-160H180v160Zm440 0h160v-160H620v160ZM180-180h160v-160H180v160Zm440 0h160v-160H620v160Z\"/>\n",
              "  </svg>\n",
              "    </button>\n",
              "\n",
              "  <style>\n",
              "    .colab-df-container {\n",
              "      display:flex;\n",
              "      gap: 12px;\n",
              "    }\n",
              "\n",
              "    .colab-df-convert {\n",
              "      background-color: #E8F0FE;\n",
              "      border: none;\n",
              "      border-radius: 50%;\n",
              "      cursor: pointer;\n",
              "      display: none;\n",
              "      fill: #1967D2;\n",
              "      height: 32px;\n",
              "      padding: 0 0 0 0;\n",
              "      width: 32px;\n",
              "    }\n",
              "\n",
              "    .colab-df-convert:hover {\n",
              "      background-color: #E2EBFA;\n",
              "      box-shadow: 0px 1px 2px rgba(60, 64, 67, 0.3), 0px 1px 3px 1px rgba(60, 64, 67, 0.15);\n",
              "      fill: #174EA6;\n",
              "    }\n",
              "\n",
              "    .colab-df-buttons div {\n",
              "      margin-bottom: 4px;\n",
              "    }\n",
              "\n",
              "    [theme=dark] .colab-df-convert {\n",
              "      background-color: #3B4455;\n",
              "      fill: #D2E3FC;\n",
              "    }\n",
              "\n",
              "    [theme=dark] .colab-df-convert:hover {\n",
              "      background-color: #434B5C;\n",
              "      box-shadow: 0px 1px 3px 1px rgba(0, 0, 0, 0.15);\n",
              "      filter: drop-shadow(0px 1px 2px rgba(0, 0, 0, 0.3));\n",
              "      fill: #FFFFFF;\n",
              "    }\n",
              "  </style>\n",
              "\n",
              "    <script>\n",
              "      const buttonEl =\n",
              "        document.querySelector('#df-91130096-1890-4c58-b19b-97bdd68efc3f button.colab-df-convert');\n",
              "      buttonEl.style.display =\n",
              "        google.colab.kernel.accessAllowed ? 'block' : 'none';\n",
              "\n",
              "      async function convertToInteractive(key) {\n",
              "        const element = document.querySelector('#df-91130096-1890-4c58-b19b-97bdd68efc3f');\n",
              "        const dataTable =\n",
              "          await google.colab.kernel.invokeFunction('convertToInteractive',\n",
              "                                                    [key], {});\n",
              "        if (!dataTable) return;\n",
              "\n",
              "        const docLinkHtml = 'Like what you see? Visit the ' +\n",
              "          '<a target=\"_blank\" href=https://colab.research.google.com/notebooks/data_table.ipynb>data table notebook</a>'\n",
              "          + ' to learn more about interactive tables.';\n",
              "        element.innerHTML = '';\n",
              "        dataTable['output_type'] = 'display_data';\n",
              "        await google.colab.output.renderOutput(dataTable, element);\n",
              "        const docLink = document.createElement('div');\n",
              "        docLink.innerHTML = docLinkHtml;\n",
              "        element.appendChild(docLink);\n",
              "      }\n",
              "    </script>\n",
              "  </div>\n",
              "\n",
              "\n",
              "<div id=\"df-036c7202-2004-43db-9200-2335a6d46ad2\">\n",
              "  <button class=\"colab-df-quickchart\" onclick=\"quickchart('df-036c7202-2004-43db-9200-2335a6d46ad2')\"\n",
              "            title=\"Suggest charts\"\n",
              "            style=\"display:none;\">\n",
              "\n",
              "<svg xmlns=\"http://www.w3.org/2000/svg\" height=\"24px\"viewBox=\"0 0 24 24\"\n",
              "     width=\"24px\">\n",
              "    <g>\n",
              "        <path d=\"M19 3H5c-1.1 0-2 .9-2 2v14c0 1.1.9 2 2 2h14c1.1 0 2-.9 2-2V5c0-1.1-.9-2-2-2zM9 17H7v-7h2v7zm4 0h-2V7h2v10zm4 0h-2v-4h2v4z\"/>\n",
              "    </g>\n",
              "</svg>\n",
              "  </button>\n",
              "\n",
              "<style>\n",
              "  .colab-df-quickchart {\n",
              "      --bg-color: #E8F0FE;\n",
              "      --fill-color: #1967D2;\n",
              "      --hover-bg-color: #E2EBFA;\n",
              "      --hover-fill-color: #174EA6;\n",
              "      --disabled-fill-color: #AAA;\n",
              "      --disabled-bg-color: #DDD;\n",
              "  }\n",
              "\n",
              "  [theme=dark] .colab-df-quickchart {\n",
              "      --bg-color: #3B4455;\n",
              "      --fill-color: #D2E3FC;\n",
              "      --hover-bg-color: #434B5C;\n",
              "      --hover-fill-color: #FFFFFF;\n",
              "      --disabled-bg-color: #3B4455;\n",
              "      --disabled-fill-color: #666;\n",
              "  }\n",
              "\n",
              "  .colab-df-quickchart {\n",
              "    background-color: var(--bg-color);\n",
              "    border: none;\n",
              "    border-radius: 50%;\n",
              "    cursor: pointer;\n",
              "    display: none;\n",
              "    fill: var(--fill-color);\n",
              "    height: 32px;\n",
              "    padding: 0;\n",
              "    width: 32px;\n",
              "  }\n",
              "\n",
              "  .colab-df-quickchart:hover {\n",
              "    background-color: var(--hover-bg-color);\n",
              "    box-shadow: 0 1px 2px rgba(60, 64, 67, 0.3), 0 1px 3px 1px rgba(60, 64, 67, 0.15);\n",
              "    fill: var(--button-hover-fill-color);\n",
              "  }\n",
              "\n",
              "  .colab-df-quickchart-complete:disabled,\n",
              "  .colab-df-quickchart-complete:disabled:hover {\n",
              "    background-color: var(--disabled-bg-color);\n",
              "    fill: var(--disabled-fill-color);\n",
              "    box-shadow: none;\n",
              "  }\n",
              "\n",
              "  .colab-df-spinner {\n",
              "    border: 2px solid var(--fill-color);\n",
              "    border-color: transparent;\n",
              "    border-bottom-color: var(--fill-color);\n",
              "    animation:\n",
              "      spin 1s steps(1) infinite;\n",
              "  }\n",
              "\n",
              "  @keyframes spin {\n",
              "    0% {\n",
              "      border-color: transparent;\n",
              "      border-bottom-color: var(--fill-color);\n",
              "      border-left-color: var(--fill-color);\n",
              "    }\n",
              "    20% {\n",
              "      border-color: transparent;\n",
              "      border-left-color: var(--fill-color);\n",
              "      border-top-color: var(--fill-color);\n",
              "    }\n",
              "    30% {\n",
              "      border-color: transparent;\n",
              "      border-left-color: var(--fill-color);\n",
              "      border-top-color: var(--fill-color);\n",
              "      border-right-color: var(--fill-color);\n",
              "    }\n",
              "    40% {\n",
              "      border-color: transparent;\n",
              "      border-right-color: var(--fill-color);\n",
              "      border-top-color: var(--fill-color);\n",
              "    }\n",
              "    60% {\n",
              "      border-color: transparent;\n",
              "      border-right-color: var(--fill-color);\n",
              "    }\n",
              "    80% {\n",
              "      border-color: transparent;\n",
              "      border-right-color: var(--fill-color);\n",
              "      border-bottom-color: var(--fill-color);\n",
              "    }\n",
              "    90% {\n",
              "      border-color: transparent;\n",
              "      border-bottom-color: var(--fill-color);\n",
              "    }\n",
              "  }\n",
              "</style>\n",
              "\n",
              "  <script>\n",
              "    async function quickchart(key) {\n",
              "      const quickchartButtonEl =\n",
              "        document.querySelector('#' + key + ' button');\n",
              "      quickchartButtonEl.disabled = true;  // To prevent multiple clicks.\n",
              "      quickchartButtonEl.classList.add('colab-df-spinner');\n",
              "      try {\n",
              "        const charts = await google.colab.kernel.invokeFunction(\n",
              "            'suggestCharts', [key], {});\n",
              "      } catch (error) {\n",
              "        console.error('Error during call to suggestCharts:', error);\n",
              "      }\n",
              "      quickchartButtonEl.classList.remove('colab-df-spinner');\n",
              "      quickchartButtonEl.classList.add('colab-df-quickchart-complete');\n",
              "    }\n",
              "    (() => {\n",
              "      let quickchartButtonEl =\n",
              "        document.querySelector('#df-036c7202-2004-43db-9200-2335a6d46ad2 button');\n",
              "      quickchartButtonEl.style.display =\n",
              "        google.colab.kernel.accessAllowed ? 'block' : 'none';\n",
              "    })();\n",
              "  </script>\n",
              "</div>\n",
              "    </div>\n",
              "  </div>\n"
            ]
          },
          "metadata": {},
          "execution_count": 14
        }
      ],
      "source": [
        "balanced_df.sample(20)"
      ]
    },
    {
      "cell_type": "markdown",
      "metadata": {
        "id": "h7SfbeIhKjZy"
      },
      "source": [
        "# 3. Data Preprocessing#"
      ]
    },
    {
      "cell_type": "markdown",
      "metadata": {
        "id": "7hr8DHLlb9yx"
      },
      "source": [
        "## 3.1. Splitting Train and Test Data"
      ]
    },
    {
      "cell_type": "markdown",
      "metadata": {
        "id": "R6DvVdj1Zuc1"
      },
      "source": [
        "Model will split dataset into training and test. We stratify data sample in which each class have an equal number of samples."
      ]
    },
    {
      "cell_type": "code",
      "execution_count": 15,
      "metadata": {
        "id": "FiRztQkhJRIK"
      },
      "outputs": [],
      "source": [
        "from sklearn.model_selection import train_test_split\n",
        "\n",
        "X_train, X_test, y_train, y_test = train_test_split(balanced_df['text'], balanced_df['target'], stratify=balanced_df['target'])"
      ]
    },
    {
      "cell_type": "code",
      "execution_count": 16,
      "metadata": {
        "colab": {
          "base_uri": "https://localhost:8080/"
        },
        "id": "rUb1JDb_XP1O",
        "outputId": "da47ed4b-6fbd-4f47-cc89-f99afc9b3bd3"
      },
      "outputs": [
        {
          "output_type": "execute_result",
          "data": {
            "text/plain": [
              "0    1586\n",
              "1    1585\n",
              "Name: target, dtype: int64"
            ]
          },
          "metadata": {},
          "execution_count": 16
        }
      ],
      "source": [
        "y_train.value_counts()"
      ]
    },
    {
      "cell_type": "code",
      "execution_count": 17,
      "metadata": {
        "colab": {
          "base_uri": "https://localhost:8080/"
        },
        "id": "ZF8VrsAfZhmp",
        "outputId": "a53d17f5-9ac3-4f56-a9a7-5c9ec8dc1e92"
      },
      "outputs": [
        {
          "output_type": "execute_result",
          "data": {
            "text/plain": [
              "1    529\n",
              "0    528\n",
              "Name: target, dtype: int64"
            ]
          },
          "metadata": {},
          "execution_count": 17
        }
      ],
      "source": [
        "y_test.value_counts()"
      ]
    },
    {
      "cell_type": "markdown",
      "metadata": {
        "id": "dBRhnYtlcXKP"
      },
      "source": [
        "# 4. Developing BERT Model"
      ]
    },
    {
      "cell_type": "markdown",
      "metadata": {
        "id": "6KLUwyfacjgf"
      },
      "source": [
        "In this part, we employ BERT Preprocessing model and Bert Encoder from Tensorflow_hub."
      ]
    },
    {
      "cell_type": "code",
      "execution_count": 18,
      "metadata": {
        "id": "MSh_EQZbdCoU"
      },
      "outputs": [],
      "source": [
        "import tensorflow_hub as hub\n",
        "import tensorflow_text as text"
      ]
    },
    {
      "cell_type": "markdown",
      "metadata": {
        "id": "SipjOc43c3LN"
      },
      "source": [
        "## 4.1. Sentence Embedding"
      ]
    },
    {
      "cell_type": "code",
      "execution_count": 50,
      "metadata": {
        "id": "ADg03_ftZk6N"
      },
      "outputs": [],
      "source": [
        "preprocess_url = 'https://tfhub.dev/tensorflow/bert_en_uncased_preprocess/3'\n",
        "# encoder_url = 'https://tfhub.dev/tensorflow/bert_en_cased_L-12_H-768_A-12/4'\n",
        "encoder_url = 'https://tfhub.dev/tensorflow/small_bert/bert_en_uncased_L-6_H-512_A-8/2'\n",
        "\n",
        "bert_preprocess = hub.KerasLayer(preprocess_url)\n",
        "bert_encoder = hub.KerasLayer(encoder_url)"
      ]
    },
    {
      "cell_type": "code",
      "execution_count": 51,
      "metadata": {
        "id": "RFV24HtOUm0k"
      },
      "outputs": [],
      "source": [
        "def get_sentence_embeding(sentences):\n",
        "  preproc_text = bert_preprocess(sentences)\n",
        "  return bert_encoder(preproc_text)['pooled_output']"
      ]
    },
    {
      "cell_type": "code",
      "execution_count": 52,
      "metadata": {
        "colab": {
          "base_uri": "https://localhost:8080/"
        },
        "id": "HeBYEHl6awyH",
        "outputId": "2742aea3-fa4a-46bf-aab9-91f8d6672228"
      },
      "outputs": [
        {
          "output_type": "execute_result",
          "data": {
            "text/plain": [
              "<tf.Tensor: shape=(2, 512), dtype=float32, numpy=\n",
              "array([[-0.2286333 , -0.3659288 , -0.4097298 , ..., -0.06806725,\n",
              "        -0.3766694 , -0.17801426],\n",
              "       [-0.36531276, -0.08574688, -0.99161583, ...,  0.0127456 ,\n",
              "        -0.26177835, -0.12990755]], dtype=float32)>"
            ]
          },
          "metadata": {},
          "execution_count": 52
        }
      ],
      "source": [
        "# get_sentence_embeding(\n",
        "#     [\"Are you speaking about the atrocities and annihilation of Christians across the Middle East committed by Muslims daily?\",\n",
        "#      \"Piscataway land // DC,this is an unfathomable number. I lived through a large earthquake and we slept under the table for one terrible night…\"\n",
        "#     ])\n",
        "\n",
        "get_sentence_embeding(\n",
        "    [\"Are you speaking about the atrocities and annihilation of Christians across the Middle East committed by Muslims daily?\",\n",
        "     \"Piscataway land // DC,this is an unfathomable number. I lived through a large earthquake and we slept under the table for one terrible night…\"\n",
        "    ])"
      ]
    },
    {
      "cell_type": "markdown",
      "metadata": {
        "id": "5tD0NX27p82R"
      },
      "source": [
        "## 4.2. Deep Learning Model"
      ]
    },
    {
      "cell_type": "code",
      "execution_count": 65,
      "metadata": {
        "id": "HGEZdGVfqEr2"
      },
      "outputs": [],
      "source": [
        "import tensorflow as tf\n",
        "\n",
        "# BERT Model\n",
        "text_input_layer = tf.keras.layers.Input(shape=(), dtype=tf.string, name='text')\n",
        "preprocessed_text = bert_preprocess(text_input_layer)\n",
        "bert_output = bert_encoder(preprocessed_text)\n",
        "\n",
        "#Neural Network Layers\n",
        "layer = tf.keras.layers.Dropout(0.1, name=\"dropout\")(bert_output['pooled_output'])\n",
        "layer = tf.keras.layers.Dense(8, activation='relu', name='hidden1')(layer)\n",
        "layer = tf.keras.layers.Dense(5, activation='relu', name='hidden2')(layer)\n",
        "layer = tf.keras.layers.Dense(1, activation='sigmoid', name='output')(layer)\n",
        "\n",
        "#Final Model\n",
        "model = tf.keras.Model(inputs=[text_input_layer], outputs=[layer])\n"
      ]
    },
    {
      "cell_type": "code",
      "execution_count": 66,
      "metadata": {
        "id": "2BCldWWnuWpb",
        "colab": {
          "base_uri": "https://localhost:8080/"
        },
        "outputId": "75112e96-4458-48e1-c67c-0e822a28ef08"
      },
      "outputs": [
        {
          "output_type": "stream",
          "name": "stdout",
          "text": [
            "Model: \"model_8\"\n",
            "__________________________________________________________________________________________________\n",
            " Layer (type)                Output Shape                 Param #   Connected to                  \n",
            "==================================================================================================\n",
            " text (InputLayer)           [(None,)]                    0         []                            \n",
            "                                                                                                  \n",
            " keras_layer_2 (KerasLayer)  {'input_type_ids': (None,    0         ['text[0][0]']                \n",
            "                             128),                                                                \n",
            "                              'input_mask': (None, 128)                                           \n",
            "                             , 'input_word_ids': (None,                                           \n",
            "                              128)}                                                               \n",
            "                                                                                                  \n",
            " keras_layer_3 (KerasLayer)  {'encoder_outputs': [(None   3506841   ['keras_layer_2[2][0]',       \n",
            "                             , 128, 512),                 7          'keras_layer_2[2][1]',       \n",
            "                              (None, 128, 512),                      'keras_layer_2[2][2]']       \n",
            "                              (None, 128, 512),                                                   \n",
            "                              (None, 128, 512),                                                   \n",
            "                              (None, 128, 512),                                                   \n",
            "                              (None, 128, 512)],                                                  \n",
            "                              'sequence_output': (None,                                           \n",
            "                              128, 512),                                                          \n",
            "                              'pooled_output': (None, 5                                           \n",
            "                             12),                                                                 \n",
            "                              'default': (None, 512)}                                             \n",
            "                                                                                                  \n",
            " dropout (Dropout)           (None, 512)                  0         ['keras_layer_3[2][7]']       \n",
            "                                                                                                  \n",
            " hidden1 (Dense)             (None, 8)                    4104      ['dropout[0][0]']             \n",
            "                                                                                                  \n",
            " hidden2 (Dense)             (None, 5)                    45        ['hidden1[0][0]']             \n",
            "                                                                                                  \n",
            " output (Dense)              (None, 1)                    6         ['hidden2[0][0]']             \n",
            "                                                                                                  \n",
            "==================================================================================================\n",
            "Total params: 35072572 (133.79 MB)\n",
            "Trainable params: 4155 (16.23 KB)\n",
            "Non-trainable params: 35068417 (133.78 MB)\n",
            "__________________________________________________________________________________________________\n"
          ]
        }
      ],
      "source": [
        "model.summary()"
      ]
    },
    {
      "cell_type": "code",
      "execution_count": 67,
      "metadata": {
        "id": "dtUHqJB5u4Kk",
        "colab": {
          "base_uri": "https://localhost:8080/"
        },
        "outputId": "a1312e6f-4eef-4ab6-e54c-0fc576a65eb9"
      },
      "outputs": [
        {
          "output_type": "execute_result",
          "data": {
            "text/plain": [
              "3171"
            ]
          },
          "metadata": {},
          "execution_count": 67
        }
      ],
      "source": [
        "len(X_train)"
      ]
    },
    {
      "cell_type": "code",
      "execution_count": 68,
      "metadata": {
        "id": "2tU-J3bCzfDl"
      },
      "outputs": [],
      "source": [
        "METRICS = [\n",
        "      tf.keras.metrics.BinaryAccuracy(name='accuracy'),\n",
        "      tf.keras.metrics.Precision(name='precision'),\n",
        "      tf.keras.metrics.Recall(name='recall')\n",
        "]\n",
        "model.compile(optimizer='adam',\n",
        "              loss='binary_crossentropy',\n",
        "              metrics=METRICS)"
      ]
    },
    {
      "cell_type": "markdown",
      "metadata": {
        "id": "lSGxGCWTzx5G"
      },
      "source": [
        "# 5. Train The Model"
      ]
    },
    {
      "cell_type": "markdown",
      "metadata": {
        "id": "t0OnVvWCz93a"
      },
      "source": [
        "## 5.1. Fit Model ##"
      ]
    },
    {
      "cell_type": "code",
      "execution_count": 69,
      "metadata": {
        "id": "SeWRNehRz9gF",
        "colab": {
          "base_uri": "https://localhost:8080/"
        },
        "outputId": "c071c99b-ab46-43ab-804e-5ef1c97b1b26"
      },
      "outputs": [
        {
          "output_type": "stream",
          "name": "stdout",
          "text": [
            "Epoch 1/80\n",
            "100/100 [==============================] - 17s 145ms/step - loss: 0.6135 - accuracy: 0.6556 - precision: 0.6990 - recall: 0.5464\n",
            "Epoch 2/80\n",
            "100/100 [==============================] - 14s 137ms/step - loss: 0.4915 - accuracy: 0.7748 - precision: 0.7713 - recall: 0.7811\n",
            "Epoch 3/80\n",
            "100/100 [==============================] - 14s 136ms/step - loss: 0.4667 - accuracy: 0.7900 - precision: 0.7940 - recall: 0.7830\n",
            "Epoch 4/80\n",
            "100/100 [==============================] - 16s 156ms/step - loss: 0.4629 - accuracy: 0.7912 - precision: 0.7953 - recall: 0.7842\n",
            "Epoch 5/80\n",
            "100/100 [==============================] - 14s 138ms/step - loss: 0.4549 - accuracy: 0.7934 - precision: 0.7958 - recall: 0.7893\n",
            "Epoch 6/80\n",
            "100/100 [==============================] - 14s 145ms/step - loss: 0.4515 - accuracy: 0.7991 - precision: 0.8008 - recall: 0.7962\n",
            "Epoch 7/80\n",
            "100/100 [==============================] - 14s 136ms/step - loss: 0.4419 - accuracy: 0.8067 - precision: 0.8123 - recall: 0.7975\n",
            "Epoch 8/80\n",
            "100/100 [==============================] - 14s 137ms/step - loss: 0.4348 - accuracy: 0.8073 - precision: 0.8102 - recall: 0.8025\n",
            "Epoch 9/80\n",
            "100/100 [==============================] - 15s 146ms/step - loss: 0.4303 - accuracy: 0.8165 - precision: 0.8192 - recall: 0.8120\n",
            "Epoch 10/80\n",
            "100/100 [==============================] - 14s 137ms/step - loss: 0.4364 - accuracy: 0.8051 - precision: 0.8121 - recall: 0.7937\n",
            "Epoch 11/80\n",
            "100/100 [==============================] - 14s 137ms/step - loss: 0.4348 - accuracy: 0.8108 - precision: 0.8200 - recall: 0.7962\n",
            "Epoch 12/80\n",
            "100/100 [==============================] - 14s 144ms/step - loss: 0.4269 - accuracy: 0.8070 - precision: 0.8121 - recall: 0.7987\n",
            "Epoch 13/80\n",
            "100/100 [==============================] - 16s 157ms/step - loss: 0.4295 - accuracy: 0.8076 - precision: 0.8115 - recall: 0.8013\n",
            "Epoch 14/80\n",
            "100/100 [==============================] - 14s 136ms/step - loss: 0.4242 - accuracy: 0.8146 - precision: 0.8145 - recall: 0.8145\n",
            "Epoch 15/80\n",
            "100/100 [==============================] - 14s 143ms/step - loss: 0.4225 - accuracy: 0.8180 - precision: 0.8231 - recall: 0.8101\n",
            "Epoch 16/80\n",
            "100/100 [==============================] - 14s 137ms/step - loss: 0.4220 - accuracy: 0.8158 - precision: 0.8158 - recall: 0.8158\n",
            "Epoch 17/80\n",
            "100/100 [==============================] - 14s 138ms/step - loss: 0.4279 - accuracy: 0.8089 - precision: 0.8112 - recall: 0.8050\n",
            "Epoch 18/80\n",
            "100/100 [==============================] - 15s 146ms/step - loss: 0.4245 - accuracy: 0.8146 - precision: 0.8248 - recall: 0.7987\n",
            "Epoch 19/80\n",
            "100/100 [==============================] - 14s 138ms/step - loss: 0.4223 - accuracy: 0.8180 - precision: 0.8186 - recall: 0.8170\n",
            "Epoch 20/80\n",
            "100/100 [==============================] - 14s 145ms/step - loss: 0.4330 - accuracy: 0.8124 - precision: 0.8125 - recall: 0.8120\n",
            "Epoch 21/80\n",
            "100/100 [==============================] - 14s 139ms/step - loss: 0.4214 - accuracy: 0.8117 - precision: 0.8171 - recall: 0.8032\n",
            "Epoch 22/80\n",
            "100/100 [==============================] - 14s 140ms/step - loss: 0.4128 - accuracy: 0.8177 - precision: 0.8263 - recall: 0.8044\n",
            "Epoch 23/80\n",
            "100/100 [==============================] - 14s 143ms/step - loss: 0.4161 - accuracy: 0.8174 - precision: 0.8208 - recall: 0.8120\n",
            "Epoch 24/80\n",
            "100/100 [==============================] - 14s 138ms/step - loss: 0.4122 - accuracy: 0.8199 - precision: 0.8221 - recall: 0.8164\n",
            "Epoch 25/80\n",
            "100/100 [==============================] - 14s 139ms/step - loss: 0.4206 - accuracy: 0.8064 - precision: 0.8048 - recall: 0.8088\n",
            "Epoch 26/80\n",
            "100/100 [==============================] - 15s 146ms/step - loss: 0.4239 - accuracy: 0.8130 - precision: 0.8139 - recall: 0.8114\n",
            "Epoch 27/80\n",
            "100/100 [==============================] - 14s 138ms/step - loss: 0.4133 - accuracy: 0.8161 - precision: 0.8199 - recall: 0.8101\n",
            "Epoch 28/80\n",
            "100/100 [==============================] - 14s 141ms/step - loss: 0.4114 - accuracy: 0.8231 - precision: 0.8216 - recall: 0.8252\n",
            "Epoch 29/80\n",
            "100/100 [==============================] - 14s 143ms/step - loss: 0.4048 - accuracy: 0.8250 - precision: 0.8272 - recall: 0.8215\n",
            "Epoch 30/80\n",
            "100/100 [==============================] - 14s 139ms/step - loss: 0.4173 - accuracy: 0.8105 - precision: 0.8114 - recall: 0.8088\n",
            "Epoch 31/80\n",
            "100/100 [==============================] - 15s 147ms/step - loss: 0.4211 - accuracy: 0.8117 - precision: 0.8103 - recall: 0.8139\n",
            "Epoch 32/80\n",
            "100/100 [==============================] - 14s 139ms/step - loss: 0.4173 - accuracy: 0.8139 - precision: 0.8107 - recall: 0.8189\n",
            "Epoch 33/80\n",
            "100/100 [==============================] - 14s 139ms/step - loss: 0.4062 - accuracy: 0.8272 - precision: 0.8309 - recall: 0.8215\n",
            "Epoch 34/80\n",
            "100/100 [==============================] - 16s 157ms/step - loss: 0.4012 - accuracy: 0.8225 - precision: 0.8259 - recall: 0.8170\n",
            "Epoch 35/80\n",
            "100/100 [==============================] - 15s 152ms/step - loss: 0.4058 - accuracy: 0.8202 - precision: 0.8178 - recall: 0.8240\n",
            "Epoch 36/80\n",
            "100/100 [==============================] - 14s 141ms/step - loss: 0.4048 - accuracy: 0.8231 - precision: 0.8269 - recall: 0.8170\n",
            "Epoch 37/80\n",
            "100/100 [==============================] - 15s 147ms/step - loss: 0.4062 - accuracy: 0.8225 - precision: 0.8293 - recall: 0.8120\n",
            "Epoch 38/80\n",
            "100/100 [==============================] - 14s 139ms/step - loss: 0.4033 - accuracy: 0.8228 - precision: 0.8223 - recall: 0.8233\n",
            "Epoch 39/80\n",
            "100/100 [==============================] - 14s 142ms/step - loss: 0.4018 - accuracy: 0.8266 - precision: 0.8273 - recall: 0.8252\n",
            "Epoch 40/80\n",
            "100/100 [==============================] - 14s 143ms/step - loss: 0.4008 - accuracy: 0.8316 - precision: 0.8315 - recall: 0.8315\n",
            "Epoch 41/80\n",
            "100/100 [==============================] - 14s 139ms/step - loss: 0.4039 - accuracy: 0.8190 - precision: 0.8189 - recall: 0.8189\n",
            "Epoch 42/80\n",
            "100/100 [==============================] - 15s 146ms/step - loss: 0.4154 - accuracy: 0.8155 - precision: 0.8161 - recall: 0.8145\n",
            "Epoch 43/80\n",
            "100/100 [==============================] - 14s 139ms/step - loss: 0.4081 - accuracy: 0.8199 - precision: 0.8238 - recall: 0.8139\n",
            "Epoch 44/80\n",
            "100/100 [==============================] - 15s 149ms/step - loss: 0.4033 - accuracy: 0.8190 - precision: 0.8201 - recall: 0.8170\n",
            "Epoch 45/80\n",
            "100/100 [==============================] - 15s 152ms/step - loss: 0.4026 - accuracy: 0.8168 - precision: 0.8141 - recall: 0.8208\n",
            "Epoch 46/80\n",
            "100/100 [==============================] - 14s 142ms/step - loss: 0.4083 - accuracy: 0.8161 - precision: 0.8147 - recall: 0.8183\n",
            "Epoch 47/80\n",
            "100/100 [==============================] - 15s 147ms/step - loss: 0.3999 - accuracy: 0.8215 - precision: 0.8247 - recall: 0.8164\n",
            "Epoch 48/80\n",
            "100/100 [==============================] - 15s 147ms/step - loss: 0.4049 - accuracy: 0.8165 - precision: 0.8156 - recall: 0.8177\n",
            "Epoch 49/80\n",
            "100/100 [==============================] - 14s 143ms/step - loss: 0.4046 - accuracy: 0.8202 - precision: 0.8247 - recall: 0.8132\n",
            "Epoch 50/80\n",
            "100/100 [==============================] - 15s 149ms/step - loss: 0.3951 - accuracy: 0.8284 - precision: 0.8284 - recall: 0.8284\n",
            "Epoch 51/80\n",
            "100/100 [==============================] - 14s 143ms/step - loss: 0.4052 - accuracy: 0.8124 - precision: 0.8133 - recall: 0.8107\n",
            "Epoch 52/80\n",
            "100/100 [==============================] - 14s 141ms/step - loss: 0.3966 - accuracy: 0.8278 - precision: 0.8315 - recall: 0.8221\n",
            "Epoch 53/80\n",
            "100/100 [==============================] - 15s 151ms/step - loss: 0.3932 - accuracy: 0.8275 - precision: 0.8244 - recall: 0.8322\n",
            "Epoch 54/80\n",
            "100/100 [==============================] - 14s 142ms/step - loss: 0.4077 - accuracy: 0.8146 - precision: 0.8161 - recall: 0.8120\n",
            "Epoch 55/80\n",
            "100/100 [==============================] - 17s 167ms/step - loss: 0.4003 - accuracy: 0.8180 - precision: 0.8194 - recall: 0.8158\n",
            "Epoch 56/80\n",
            "100/100 [==============================] - 15s 147ms/step - loss: 0.3966 - accuracy: 0.8228 - precision: 0.8268 - recall: 0.8164\n",
            "Epoch 57/80\n",
            "100/100 [==============================] - 14s 143ms/step - loss: 0.3982 - accuracy: 0.8221 - precision: 0.8181 - recall: 0.8284\n",
            "Epoch 58/80\n",
            "100/100 [==============================] - 14s 141ms/step - loss: 0.4008 - accuracy: 0.8209 - precision: 0.8180 - recall: 0.8252\n",
            "Epoch 59/80\n",
            "100/100 [==============================] - 15s 154ms/step - loss: 0.4026 - accuracy: 0.8161 - precision: 0.8139 - recall: 0.8196\n",
            "Epoch 60/80\n",
            "100/100 [==============================] - 15s 145ms/step - loss: 0.3985 - accuracy: 0.8250 - precision: 0.8203 - recall: 0.8322\n",
            "Epoch 61/80\n",
            "100/100 [==============================] - 15s 146ms/step - loss: 0.3903 - accuracy: 0.8278 - precision: 0.8290 - recall: 0.8259\n",
            "Epoch 62/80\n",
            "100/100 [==============================] - 14s 142ms/step - loss: 0.4035 - accuracy: 0.8218 - precision: 0.8220 - recall: 0.8215\n",
            "Epoch 63/80\n",
            "100/100 [==============================] - 15s 145ms/step - loss: 0.3973 - accuracy: 0.8225 - precision: 0.8158 - recall: 0.8328\n",
            "Epoch 64/80\n",
            "100/100 [==============================] - 15s 153ms/step - loss: 0.3886 - accuracy: 0.8250 - precision: 0.8247 - recall: 0.8252\n",
            "Epoch 65/80\n",
            "100/100 [==============================] - 15s 146ms/step - loss: 0.3964 - accuracy: 0.8206 - precision: 0.8155 - recall: 0.8284\n",
            "Epoch 66/80\n",
            "100/100 [==============================] - 14s 142ms/step - loss: 0.3904 - accuracy: 0.8243 - precision: 0.8241 - recall: 0.8246\n",
            "Epoch 67/80\n",
            "100/100 [==============================] - 15s 150ms/step - loss: 0.3970 - accuracy: 0.8262 - precision: 0.8180 - recall: 0.8391\n",
            "Epoch 68/80\n",
            "100/100 [==============================] - 15s 147ms/step - loss: 0.3980 - accuracy: 0.8240 - precision: 0.8187 - recall: 0.8322\n",
            "Epoch 69/80\n",
            "100/100 [==============================] - 15s 153ms/step - loss: 0.4006 - accuracy: 0.8174 - precision: 0.8071 - recall: 0.8341\n",
            "Epoch 70/80\n",
            "100/100 [==============================] - 14s 145ms/step - loss: 0.3903 - accuracy: 0.8319 - precision: 0.8312 - recall: 0.8328\n",
            "Epoch 71/80\n",
            "100/100 [==============================] - 14s 143ms/step - loss: 0.3963 - accuracy: 0.8187 - precision: 0.8160 - recall: 0.8227\n",
            "Epoch 72/80\n",
            "100/100 [==============================] - 15s 150ms/step - loss: 0.4026 - accuracy: 0.8177 - precision: 0.8169 - recall: 0.8189\n",
            "Epoch 73/80\n",
            "100/100 [==============================] - 14s 143ms/step - loss: 0.3952 - accuracy: 0.8262 - precision: 0.8223 - recall: 0.8322\n",
            "Epoch 74/80\n",
            "100/100 [==============================] - 14s 142ms/step - loss: 0.3897 - accuracy: 0.8250 - precision: 0.8199 - recall: 0.8328\n",
            "Epoch 75/80\n",
            "100/100 [==============================] - 15s 152ms/step - loss: 0.3965 - accuracy: 0.8231 - precision: 0.8192 - recall: 0.8290\n",
            "Epoch 76/80\n",
            "100/100 [==============================] - 16s 157ms/step - loss: 0.3889 - accuracy: 0.8266 - precision: 0.8240 - recall: 0.8303\n",
            "Epoch 77/80\n",
            "100/100 [==============================] - 14s 145ms/step - loss: 0.3914 - accuracy: 0.8259 - precision: 0.8214 - recall: 0.8328\n",
            "Epoch 78/80\n",
            "100/100 [==============================] - 14s 144ms/step - loss: 0.3850 - accuracy: 0.8253 - precision: 0.8208 - recall: 0.8322\n",
            "Epoch 79/80\n",
            "100/100 [==============================] - 14s 140ms/step - loss: 0.3860 - accuracy: 0.8237 - precision: 0.8159 - recall: 0.8360\n",
            "Epoch 80/80\n",
            "100/100 [==============================] - 14s 144ms/step - loss: 0.3877 - accuracy: 0.8209 - precision: 0.8149 - recall: 0.8303\n"
          ]
        },
        {
          "output_type": "execute_result",
          "data": {
            "text/plain": [
              "<keras.src.callbacks.History at 0x7e6f0ee9e320>"
            ]
          },
          "metadata": {},
          "execution_count": 69
        }
      ],
      "source": [
        "model.fit(X_train, y_train, epochs=80)"
      ]
    },
    {
      "cell_type": "code",
      "execution_count": 70,
      "metadata": {
        "id": "rtVAbC5Gzrz6",
        "colab": {
          "base_uri": "https://localhost:8080/"
        },
        "outputId": "bb9a743f-f138-4422-f185-48cb561a8ab9"
      },
      "outputs": [
        {
          "output_type": "stream",
          "name": "stdout",
          "text": [
            "34/34 [==============================] - 5s 126ms/step - loss: 0.4315 - accuracy: 0.8098 - precision: 0.7867 - recall: 0.8507\n"
          ]
        },
        {
          "output_type": "execute_result",
          "data": {
            "text/plain": [
              "[0.4314865171909332,\n",
              " 0.8098391890525818,\n",
              " 0.7867133021354675,\n",
              " 0.8506616353988647]"
            ]
          },
          "metadata": {},
          "execution_count": 70
        }
      ],
      "source": [
        "model.evaluate(X_test, y_test)"
      ]
    },
    {
      "cell_type": "markdown",
      "source": [
        "## 5.2. Predict Model"
      ],
      "metadata": {
        "id": "6HGfnRfsdvEH"
      }
    },
    {
      "cell_type": "code",
      "source": [
        "y_predict = model.predict(X_test)"
      ],
      "metadata": {
        "id": "qzgvx_RydrLG",
        "colab": {
          "base_uri": "https://localhost:8080/"
        },
        "outputId": "1193635a-4e28-4b76-f3ed-828ba1c3089e"
      },
      "execution_count": 71,
      "outputs": [
        {
          "output_type": "stream",
          "name": "stdout",
          "text": [
            "34/34 [==============================] - 5s 128ms/step\n"
          ]
        }
      ]
    },
    {
      "cell_type": "code",
      "source": [
        "y_predict = y_predict.flatten()\n",
        "y_predict"
      ],
      "metadata": {
        "id": "ykN19eBifFdh",
        "colab": {
          "base_uri": "https://localhost:8080/"
        },
        "outputId": "d49baf91-f36f-4fd9-c914-7754b8e66bbb"
      },
      "execution_count": 72,
      "outputs": [
        {
          "output_type": "execute_result",
          "data": {
            "text/plain": [
              "array([0.50612813, 0.97873414, 0.1477338 , ..., 0.96064264, 0.21433896,\n",
              "       0.9357868 ], dtype=float32)"
            ]
          },
          "metadata": {},
          "execution_count": 72
        }
      ]
    },
    {
      "cell_type": "code",
      "source": [
        "y_predict = np.where(y_predict > 0.5, 1, 0)\n",
        "y_predict"
      ],
      "metadata": {
        "id": "Yae_7cvJfhk_",
        "colab": {
          "base_uri": "https://localhost:8080/"
        },
        "outputId": "ebd02820-41c9-4044-f0c4-a8728e33154c"
      },
      "execution_count": 73,
      "outputs": [
        {
          "output_type": "execute_result",
          "data": {
            "text/plain": [
              "array([1, 1, 0, ..., 1, 0, 1])"
            ]
          },
          "metadata": {},
          "execution_count": 73
        }
      ]
    },
    {
      "cell_type": "code",
      "source": [
        "from sklearn.metrics import confusion_matrix, classification_report\n",
        "\n",
        "cmtrix = confusion_matrix(y_test, y_predict)\n",
        "sns.heatmap(cmtrix, annot=True, fmt='d')\n",
        "\n",
        "plt.xlabel(\"Predicted\")\n",
        "plt.ylabel(\"Truth\")\n",
        "\n",
        "plt.show()"
      ],
      "metadata": {
        "id": "8af_GT6pgEx8",
        "colab": {
          "base_uri": "https://localhost:8080/",
          "height": 455
        },
        "outputId": "b59e92f2-2bf5-4623-cae6-88ea5a7c4359"
      },
      "execution_count": 75,
      "outputs": [
        {
          "output_type": "display_data",
          "data": {
            "text/plain": [
              "<Figure size 640x480 with 2 Axes>"
            ],
            "image/png": "[encoded data removed]"
          },
          "metadata": {}
        }
      ]
    },
    {
      "cell_type": "code",
      "source": [
        "print(classification_report(y_test, y_predict))"
      ],
      "metadata": {
        "id": "HEaJyz3JhnT-",
        "colab": {
          "base_uri": "https://localhost:8080/"
        },
        "outputId": "5eb764cc-a029-4529-bc3a-f580e1fc2a26"
      },
      "execution_count": 76,
      "outputs": [
        {
          "output_type": "stream",
          "name": "stdout",
          "text": [
            "              precision    recall  f1-score   support\n",
            "\n",
            "           0       0.84      0.77      0.80       528\n",
            "           1       0.79      0.85      0.82       529\n",
            "\n",
            "    accuracy                           0.81      1057\n",
            "   macro avg       0.81      0.81      0.81      1057\n",
            "weighted avg       0.81      0.81      0.81      1057\n",
            "\n"
          ]
        }
      ]
    }
  ],
  "metadata": {
    "colab": {
      "toc_visible": true,
      "provenance": [],
      "gpuType": "T4",
      "include_colab_link": true
    },
    "kernelspec": {
      "display_name": "Python 3",
      "name": "python3"
    },
    "language_info": {
      "name": "python"
    },
    "accelerator": "GPU"
  },
  "nbformat": 4,
  "nbformat_minor": 0
}